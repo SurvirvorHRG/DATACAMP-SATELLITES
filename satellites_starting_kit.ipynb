{
 "cells": [
  {
   "cell_type": "markdown",
   "metadata": {},
   "source": [
    "<div style=\"text-align: center;\">\n",
    "    <a href=\"https://www.ip-paris.fr/en/education/masters/applied-mathematics-and-statistics-program/master-year-2-data-science\">\n",
    "        <img border=\"0\" src=\"https://www.ip-paris.fr/sites/default/files/presse/Charte%20Graphique/2025/LOGOTYPE-7-ECOLES-Vertical.png\" width=\"90%\"></a>\n",
    "</div>\n",
    "\n",
    "# RAMP on Satellites decay date prediction\n",
    "\n",
    "<i> Erwan CELANIE, Jaishan BURTON ELMO, Kevin ALINEJAD, Nizar ZEROUALE, Jad AOUAD, Othmane LKHALIDI</i>"
   ]
  },
  {
   "cell_type": "markdown",
   "metadata": {},
   "source": [
    "## Introduction  \n",
    "\n",
    "### The disintegration of satellites  \n",
    "\n",
    "Artificial satellites placed in orbit around the Earth do not remain operational indefinitely. Over time, Earth's gravitational pull, atmospheric drag, and other factors influence their trajectory, eventually leading to their disintegration (or decay). Accurately predicting the decay date of satellites is a crucial challenge for managing space traffic and ensuring the safety of orbital infrastructures.  \n",
    "\n",
    "### The Space Track database  \n",
    "\n",
    "The data used for this challenge comes from the <a href=\"https://www.space-track.org/#ssr\">**Space-Track** platform</a>, which centralizes information on orbiting objects, including active satellites, space debris, and decommissioned spacecraft. These data are collected by the **United States Space Surveillance Network (SSN)** and made available for analysis and orbital forecasting.  "
   ]
  },
  {
   "cell_type": "markdown",
   "metadata": {},
   "source": [
    "# Exploratory data analysis"
   ]
  },
  {
   "cell_type": "code",
   "execution_count": null,
   "metadata": {},
   "outputs": [],
   "source": [
    "%matplotlib inline\n",
    "import numpy as np\n",
    "import pandas as pd\n",
    "import matplotlib.pyplot as plt\n",
    "from itertools import chain\n",
    "pd.set_option('display.max_columns', None)"
   ]
  },
  {
   "cell_type": "markdown",
   "metadata": {},
   "source": [
    "## Get access to the training data"
   ]
  },
  {
   "cell_type": "code",
   "execution_count": null,
   "metadata": {},
   "outputs": [],
   "source": [
    "import problem\n",
    "\n",
    "X_df, y = problem.get_train_data()"
   ]
  },
  {
   "cell_type": "markdown",
   "metadata": {},
   "source": [
    "## The features\n",
    "\n",
    "<span style=\"color:red\">Red variables</span> are identifiers, labels, or other human-annotated features, so they should not be used as input in the prediction model.\n",
    "<span style=\"color:lightblue\">Light blue variables</span> are legal but not likely to contribute significant information to the prediction.\n",
    "Black variables are definitely discriminative.\n",
    "\n",
    "<ul> <li> <code><b><span style=\"color:red\">OBJECT_ID</span></b></code>: Unique identifier for the satellite. <li> <code><b><span style=\"color:red\">OBJECT_NAME</span></b></code>: Name of the satellite. <li> <code><b><span style=\"color:red\">NORAD_CAT_ID</span></b></code>: NORAD catalog identifier assigned to the satellite. <li> <code><b>COUNTRY</b></code>: Country of origin of the satellite. <li> <code><b><span style=\"color:black\">PERIOD</span></b></code>: Orbital period of the satellite (in minutes). <li> <code><b><span style=\"color:black\">INCLINATION</span></b></code>: Orbital inclination angle (in degrees). <li> <code><b><span style=\"color:black\">APOGEE</span></b></code>: Maximum altitude reached by the satellite (in km). <li> <code><b><span style=\"color:black\">PERIGEE</span></b></code>: Minimum altitude reached by the satellite (in km). <li> <code><b><span style=\"color:lightblue\">RCS_SIZE</span></b></code>: Estimated radar cross-section category (SMALL, MEDIUM, LARGE). <li> <code><b><span style=\"color:black\">RCS_VALUE</span></b></code>: Numerical radar cross-section value. <li> <code><b><span style=\"color:red\">LAUNCH</span></b></code>: Date when the satellite was launched. <li> <code><b><span style=\"color:red\">DECAY</span></b></code>: Date of satellite disintegration (*label to predict*). <li> <code><b><span style=\"color:lightblue\">COMMENT</span></b></code>: Additional information about the satellite’s status (e.g., \"DOCKED TO ISS\", \"LUNAR IMPACT\", \"MARS LANDING\"). This may not be directly useful for prediction but could provide context. </ul>"
   ]
  }
 ],
 "metadata": {
  "kernelspec": {
   "display_name": "base",
   "language": "python",
   "name": "python3"
  },
  "language_info": {
   "name": "python",
   "version": "3.12.4"
  }
 },
 "nbformat": 4,
 "nbformat_minor": 2
}
