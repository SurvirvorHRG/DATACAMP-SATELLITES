{
 "cells": [
  {
   "cell_type": "markdown",
   "metadata": {},
   "source": [
    "<div style=\"text-align: center;\">\n",
    "    <a href=\"https://www.ip-paris.fr/en/education/masters/applied-mathematics-and-statistics-program/master-year-2-data-science\">\n",
    "        <img border=\"0\" src=\"https://www.ip-paris.fr/sites/default/files/presse/Charte%20Graphique/2025/LOGOTYPE-7-ECOLES-Vertical.png\" width=\"90%\"></a>\n",
    "</div>\n",
    "\n",
    "# RAMP on Satellites decay date prediction\n",
    "\n",
    "<i> Erwan CELANIE, Jaishan BURTON ELMO, Kevin ALINEJAD, Nizar ZEROUALE, Jad AOUAD, Othmane LKHALIDI</i>"
   ]
  },
  {
   "cell_type": "code",
   "execution_count": null,
   "metadata": {
    "vscode": {
     "languageId": "plaintext"
    }
   },
   "outputs": [],
   "source": []
  }
 ],
 "metadata": {
  "language_info": {
   "name": "python"
  }
 },
 "nbformat": 4,
 "nbformat_minor": 2
}
