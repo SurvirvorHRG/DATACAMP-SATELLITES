{
 "cells": [
  {
   "cell_type": "markdown",
   "metadata": {},
   "source": [
    "<div style=\"text-align: center;\">\n",
    "    <a href=\"https://www.ip-paris.fr/en/education/masters/applied-mathematics-and-statistics-program/master-year-2-data-science\">\n",
    "        <img border=\"0\" src=\"https://www.ip-paris.fr/sites/default/files/presse/Charte%20Graphique/2025/LOGOTYPE-7-ECOLES-Vertical.png\" width=\"90%\"></a>\n",
    "</div>\n",
    "\n",
    "# RAMP on Satellites decay date prediction\n",
    "\n",
    "<i> Erwan CELANIE, Jaishan BURTON ELMO, Kevin ALINEJAD, Nizar ZEROUALE, Jad AOUAD, Othmane LKHALIDI</i>"
   ]
  },
  {
   "cell_type": "markdown",
   "metadata": {},
   "source": [
    "## Introduction  \n",
    "\n",
    "### The disintegration of orbiting satellites  \n",
    "\n",
    "Artificial satellites placed in orbit around the Earth do not remain operational indefinitely. Over time, Earth's gravitational pull, atmospheric drag, and other factors influence their trajectory, eventually leading to their disintegration (or decay). Accurately predicting the decay date of satellites is a crucial challenge for managing space traffic and ensuring the safety of orbital infrastructures.  \n",
    "\n",
    "### Database and source of information  \n",
    "\n",
    "The data used for this challenge comes from the <a href=\"https://www.space-track.org/#ssr\">**Space-Track** platform</a>, which centralizes information on orbiting objects, including active satellites, space debris, and decommissioned spacecraft. These data are collected by the **United States Space Surveillance Network (SSN)** and made available for analysis and orbital forecasting.  "
   ]
  }
 ],
 "metadata": {
  "language_info": {
   "name": "python"
  }
 },
 "nbformat": 4,
 "nbformat_minor": 2
}
