{
 "cells": [
  {
   "cell_type": "markdown",
   "metadata": {},
   "source": [
    "<div style=\"text-align: center;\">\n",
    "    <a href=\"https://www.ip-paris.fr/en/education/masters/applied-mathematics-and-statistics-program/master-year-2-data-science\">\n",
    "        <img border=\"0\" src=\"https://www.ip-paris.fr/sites/default/files/presse/Charte%20Graphique/2025/LOGOTYPE-7-ECOLES-Vertical.png\" width=\"90%\"></a>\n",
    "</div>\n",
    "\n",
    "# RAMP on Satellites decay date prediction\n",
    "\n",
    "<i> Erwan CELANIE, Jaishan BURTON ELMO, Kevin ALINEJAD, Nizar ZEROUALE, Jad AOUAD, Othmane LKHALIDI</i>"
   ]
  },
  {
   "cell_type": "markdown",
   "metadata": {},
   "source": [
    "## Introduction  \n",
    "\n",
    "### The disintegration of satellites  \n",
    "\n",
    "Artificial satellites placed in orbit around the Earth do not remain operational indefinitely. Over time, Earth's gravitational pull, atmospheric drag, and other factors influence their trajectory, eventually leading to their disintegration (or decay). Accurately predicting the decay date of satellites is a crucial challenge for managing space traffic and ensuring the safety of orbital infrastructures.  \n",
    "\n",
    "### The Space Track database  \n",
    "\n",
    "The data used for this challenge comes from the <a href=\"https://www.space-track.org//basicspacedata/query/class/gp/decay_date/<>null-val/orderby/NORAD_CAT_ID/format/html\">**Space-Track** platform</a>, which centralizes information on orbiting objects, including active satellites, space debris, and decommissioned spacecraft. These data are collected by the **United States Space Surveillance Network (SSN)** and made available for analysis and orbital forecasting.  "
   ]
  },
  {
   "cell_type": "markdown",
   "metadata": {},
   "source": [
    "# Exploratory data analysis"
   ]
  },
  {
   "cell_type": "code",
   "execution_count": null,
   "metadata": {},
   "outputs": [],
   "source": [
    "%matplotlib inline\n",
    "import numpy as np\n",
    "import pandas as pd\n",
    "import matplotlib.pyplot as plt\n",
    "from itertools import chain\n",
    "pd.set_option('display.max_columns', None)"
   ]
  },
  {
   "cell_type": "markdown",
   "metadata": {},
   "source": [
    "## Get access to the training data"
   ]
  },
  {
   "cell_type": "code",
   "execution_count": null,
   "metadata": {},
   "outputs": [],
   "source": [
    "import problem\n",
    "\n",
    "X_df, y = problem.get_train_data()"
   ]
  },
  {
   "cell_type": "markdown",
   "metadata": {},
   "source": [
    "## The features\n",
    "\n",
    "<span style=\"color:red\">Red variables</span> are identifiers, labels, or other human-annotated features, so they should not be used as input in the prediction model.\n",
    "<span style=\"color:lightblue\">Light blue variables</span> are legal but not likely to contribute significant information to the prediction.\n",
    "Black variables are definitely discriminative.\n",
    "\n",
    "<ul> <li> <code><b><span style=\"color:red\">CCSDS_OMM_VERS</span></b></code>: Version of the CCSDS Orbit Mean-Elements Message (OMM) format. <li> <code><b><span style=\"color:red\">COMMENT</span></b></code>: General information about the satellite data source. <li> <code><b><span style=\"color:red\">CREATION_DATE</span></b></code>: Date when this dataset was created. <li> <code><b><span style=\"color:red\">ORIGINATOR</span></b></code>: Organization responsible for the data (e.g., 18 SPCS). </ul>\n",
    "Satellite Metadata\n",
    "<ul> <li> <code><b><span style=\"color:red\">OBJECT_ID</span></b></code>: Unique identifier for the satellite. <li> <code><b><span style=\"color:red\">OBJECT_NAME</span></b></code>: Name of the satellite. <li> <code><b><span style=\"color:red\">NORAD_CAT_ID</span></b></code>: NORAD catalog identifier assigned to the satellite. <li> <code><b>COUNTRY_CODE</b></code>: Country of origin of the satellite. <li> <code><b>OBJECT_TYPE</b></code>: Type of object (e.g., PAYLOAD, DEBRIS). </ul>\n",
    "Orbital Elements\n",
    "<ul> <li> <code><b><span style=\"color:black\">EPOCH</span></b></code>: Epoch time for the provided orbital elements. <li> <code><b><span style=\"color:black\">MEAN_MOTION</span></b></code>: Number of revolutions per day (rev/day). <li> <code><b><span style=\"color:black\">ECCENTRICITY</span></b></code>: Measure of the orbit's deviation from a perfect circle. <li> <code><b><span style=\"color:black\">INCLINATION</span></b></code>: Orbital inclination angle (in degrees). <li> <code><b><span style=\"color:black\">RA_OF_ASC_NODE</span></b></code>: Right Ascension of the Ascending Node (in degrees). <li> <code><b><span style=\"color:black\">ARG_OF_PERICENTER</span></b></code>: Argument of perigee/pericenter (in degrees). <li> <code><b><span style=\"color:black\">MEAN_ANOMALY</span></b></code>: Mean anomaly at the epoch (in degrees). </ul>\n",
    "Tracking and Atmospheric Drag Parameters\n",
    "<ul> <li> <code><b><span style=\"color:red\">ELEMENT_SET_NO</span></b></code>: Version number of the orbital element set. <li> <code><b><span style=\"color:black\">REV_AT_EPOCH</span></b></code>: Number of revolutions completed since launch at the epoch time. <li> <code><b><span style=\"color:black\">BSTAR</span></b></code>: Drag coefficient affecting atmospheric resistance. <li> <code><b><span style=\"color:black\">MEAN_MOTION_DOT</span></b></code>: First derivative of mean motion (rad/s²), indicating acceleration due to drag. <li> <code><b><span style=\"color:black\">MEAN_MOTION_DDOT</span></b></code>: Second derivative of mean motion (rad/s³), usually close to zero. </ul>\n",
    "Orbital Characteristics\n",
    "<ul> <li> <code><b><span style=\"color:black\">SEMIMAJOR_AXIS</span></b></code>: Semi-major axis of the orbit (in km). <li> <code><b><span style=\"color:black\">PERIOD</span></b></code>: Orbital period of the satellite (in minutes). <li> <code><b><span style=\"color:black\">APOAPSIS</span></b></code>: Maximum altitude reached by the satellite (in km). <li> <code><b><span style=\"color:black\">PERIAPSIS</span></b></code>: Minimum altitude reached by the satellite (in km). </ul>\n",
    "Satellite Type and Physical Attributes\n",
    "<ul> <li> <code><b><span style=\"color:lightblue\">RCS_SIZE</span></b></code>: Estimated radar cross-section category (SMALL, MEDIUM, LARGE). <li> <code><b><span style=\"color:black\">RCS_VALUE</span></b></code>: Numerical radar cross-section value. </ul>\n",
    "Launch and Decay Information\n",
    "<ul> <li> <code><b><span style=\"color:red\">LAUNCH_DATE</span></b></code>: Date when the satellite was launched. <li> <code><b><span style=\"color:red\">DECAY_DATE</span></b></code>: Date of satellite disintegration (target, label to predict). </ul>\n",
    "Additional Tracking Data\n",
    "<ul> <li> <code><b><span style=\"color:red\">FILE</span></b></code>: Internal file reference ID. <li> <code><b><span style=\"color:red\">GP_ID</span></b></code>: General Perturbation ID. <li> <code><b><span style=\"color:lightblue\">TLE_LINE0</span></b></code>: First line of the Two-Line Element Set (TLE) for tracking. <li> <code><b><span style=\"color:lightblue\">TLE_LINE1</span></b></code>: Second line of the TLE containing orbital elements. <li> <code><b><span style=\"color:lightblue\">TLE_LINE2</span></b></code>: Third line of the TLE containing additional tracking data. </ul>"
   ]
  }
 ],
 "metadata": {
  "kernelspec": {
   "display_name": "base",
   "language": "python",
   "name": "python3"
  },
  "language_info": {
   "name": "python",
   "version": "3.12.4"
  }
 },
 "nbformat": 4,
 "nbformat_minor": 2
}
