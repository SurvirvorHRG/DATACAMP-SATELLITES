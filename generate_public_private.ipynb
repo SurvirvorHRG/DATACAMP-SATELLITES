{
 "cells": [
  {
   "cell_type": "code",
   "execution_count": 3,
   "metadata": {},
   "outputs": [
    {
     "name": "stdout",
     "output_type": "stream",
     "text": [
      "Dataset split completed successfully!\n"
     ]
    }
   ],
   "source": [
    "import pandas as pd\n",
    "from sklearn.model_selection import train_test_split\n",
    "\n",
    "# Load the full dataset\n",
    "file_path = \"ELSET_decayed_objects.csv\"\n",
    "df = pd.read_csv(file_path)\n",
    "\n",
    "# Split into private train and private test\n",
    "train_df, test_df = train_test_split(df, test_size=0.2, random_state=42)  # 80% train, 20% test\n",
    "\n",
    "# Further split train_df to create a public subset\n",
    "public_train_df, public_test_df = train_test_split(train_df, test_size=0.1, random_state=42)  # 10% of train as public test\n",
    "\n",
    "# Save the files\n",
    "train_df.to_csv(\"data/train.csv\", index=False)\n",
    "test_df.to_csv(\"data/test.csv\", index=False)\n",
    "public_train_df.to_csv(\"data/public/train.csv\", index=False)\n",
    "public_test_df.to_csv(\"data/public/test.csv\", index=False)\n",
    "\n",
    "print(\"Dataset split completed successfully!\")\n"
   ]
  }
 ],
 "metadata": {
  "kernelspec": {
   "display_name": "Python 3.11.7 ('base')",
   "language": "python",
   "name": "python3"
  },
  "language_info": {
   "codemirror_mode": {
    "name": "ipython",
    "version": 3
   },
   "file_extension": ".py",
   "mimetype": "text/x-python",
   "name": "python",
   "nbconvert_exporter": "python",
   "pygments_lexer": "ipython3",
   "version": "3.11.7"
  },
  "orig_nbformat": 4,
  "vscode": {
   "interpreter": {
    "hash": "3c06e3e46abf38078fe4dac36a0085ec2b134ebbd73dd076183d243eeca6918f"
   }
  }
 },
 "nbformat": 4,
 "nbformat_minor": 2
}
